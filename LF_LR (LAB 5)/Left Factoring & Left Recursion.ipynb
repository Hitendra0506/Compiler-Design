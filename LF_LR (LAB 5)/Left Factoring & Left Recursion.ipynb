{
 "cells": [
  {
   "cell_type": "markdown",
   "metadata": {},
   "source": [
    "# Write a program to remove left factoring from a given grammar."
   ]
  },
  {
   "cell_type": "markdown",
   "metadata": {},
   "source": [
    "## Left Factoring"
   ]
  },
  {
   "cell_type": "code",
   "execution_count": 1,
   "metadata": {},
   "outputs": [],
   "source": [
    "from itertools import takewhile \n",
    "epsilon = '\\u03B5'"
   ]
  },
  {
   "cell_type": "code",
   "execution_count": 2,
   "metadata": {},
   "outputs": [],
   "source": [
    "def findPrefix(prod):\n",
    "    dic = { a[0] : [] for a in prod}\n",
    "    for a in prod:\n",
    "        dic[a[0]].append(a)\n",
    "    prefix = dict()\n",
    "    for (a,b) in dic.items():\n",
    "        pre = ''.join(c[0] for c in takewhile(lambda x: all(x[0] == y for y in x), zip(*b)))\n",
    "        prefix[pre] = b\n",
    "    return prefix"
   ]
  },
  {
   "cell_type": "code",
   "execution_count": 3,
   "metadata": {},
   "outputs": [],
   "source": [
    "def LeftFactor(Grammar):\n",
    "    nt = list(set([t[0] for t in Grammar]))\n",
    "    newGrammar = Grammar.copy()\n",
    "    for i in nt:\n",
    "        prod = [t[1] for t in Grammar if t[0] == i and t[1] != '']\n",
    "        prefix = findPrefix(prod)\n",
    "        for (a,b) in prefix.items():\n",
    "            if len(b) > 1:  \n",
    "                new = i + '\\''\n",
    "                new_prod = a+new\n",
    "                newGrammar.append((i,new_prod))\n",
    "                for p in b:\n",
    "                    newGrammar.remove((i,p))\n",
    "                    newGrammar.append((new,p[len(a):]))\n",
    "    return newGrammar"
   ]
  },
  {
   "cell_type": "code",
   "execution_count": 4,
   "metadata": {},
   "outputs": [],
   "source": [
    "def printGrammar(Grammar):\n",
    "    lhs = list(set([t[0] for t in Grammar]))\n",
    "    for l in lhs:\n",
    "        rhs = [t[1] for t in Grammar if t[0] == l]\n",
    "        if '' in rhs :\n",
    "            rhs.remove('')\n",
    "            rhs.append(epsilon)\n",
    "        b = ' | '.join(rhs)\n",
    "        print('{0:<3} -> {1:<25}'.format(l,b))"
   ]
  },
  {
   "cell_type": "code",
   "execution_count": 5,
   "metadata": {},
   "outputs": [],
   "source": [
    "def RemoveLeftFactoring(Grammar):\n",
    "    change = True\n",
    "    print(\"Original Grammar : \\n\")\n",
    "    printGrammar(Grammar)\n",
    "    old = Grammar.copy()\n",
    "    while change == True:\n",
    "        new = LeftFactor(old)\n",
    "        change = not(old == new)\n",
    "        old = new.copy()\n",
    "    print(\"\\nLeft Factored Grammar : \\n\")\n",
    "    printGrammar(new)  "
   ]
  },
  {
   "cell_type": "code",
   "execution_count": 6,
   "metadata": {},
   "outputs": [
    {
     "name": "stdout",
     "output_type": "stream",
     "text": [
      "Original Grammar : \n",
      "\n",
      "A   -> aAB | aBc | aAc          \n",
      "\n",
      "Left Factored Grammar : \n",
      "\n",
      "A'  -> Bc | AA''                \n",
      "A   -> aA'                      \n",
      "A'' -> B | c                    \n"
     ]
    }
   ],
   "source": [
    "Grammar = [('A','aAB'),('A','aBc'),('A','aAc')]\n",
    "RemoveLeftFactoring(Grammar)"
   ]
  },
  {
   "cell_type": "code",
   "execution_count": 7,
   "metadata": {},
   "outputs": [
    {
     "name": "stdout",
     "output_type": "stream",
     "text": [
      "Original Grammar : \n",
      "\n",
      "E   -> b                        \n",
      "S   -> iEtS | iEtSeS | a        \n",
      "\n",
      "Left Factored Grammar : \n",
      "\n",
      "S'  -> eS | ε                   \n",
      "E   -> b                        \n",
      "S   -> a | iEtSS'               \n"
     ]
    }
   ],
   "source": [
    "Grammar = [('S','iEtS'),('S','iEtSeS'),('S','a'),('E','b')]\n",
    "RemoveLeftFactoring(Grammar)"
   ]
  },
  {
   "cell_type": "markdown",
   "metadata": {},
   "source": [
    "# Removing Left Recursion"
   ]
  },
  {
   "cell_type": "code",
   "execution_count": 8,
   "metadata": {},
   "outputs": [],
   "source": [
    "def DirectLeftRecursion(Grammar):\n",
    "    nt = list(set([t[0] for t in Grammar]))\n",
    "    newGrammar = Grammar.copy()\n",
    "    for i in nt:\n",
    "        lr = [b for a,b in Grammar if a == i and b.startswith(a)]\n",
    "        nlr = [b for a,b in Grammar if a == i and b not in lr]\n",
    "        if len(lr) != 0:\n",
    "            new = i + '\\''\n",
    "            newGrammar.append((new,''))\n",
    "            for j in lr:\n",
    "                newGrammar.remove((i,j))\n",
    "                newGrammar.append((new,j.lstrip(i) + new))\n",
    "            for j in nlr:\n",
    "                newGrammar.remove((i,j))\n",
    "                newGrammar.append((i,j + new))\n",
    "    return newGrammar"
   ]
  },
  {
   "cell_type": "code",
   "execution_count": 9,
   "metadata": {},
   "outputs": [],
   "source": [
    "def IndirectLeftRecursion(Grammar):\n",
    "    nt = list(set([t[0] for t in Grammar]))\n",
    "    n = len(nt)\n",
    "    for i in range(n):\n",
    "        prod = [t[1] for t in Grammar if t[0] == nt[i]]\n",
    "        for j in range(i):\n",
    "            for p in prod:\n",
    "                if p.startswith(nt[j]):\n",
    "                    x = p.lstrip(nt[j])\n",
    "                    Grammar.remove((nt[i],p))\n",
    "                    pr = [t[1] for t in Grammar if t[0] == nt[j]]\n",
    "                    for q in pr:\n",
    "                        Grammar.append((nt[i],q+x))\n",
    "        Grammar = DirectLeftRecursion(Grammar)\n",
    "    return Grammar"
   ]
  },
  {
   "cell_type": "code",
   "execution_count": 10,
   "metadata": {},
   "outputs": [],
   "source": [
    "def RemoveLeftRecursion(Grammar):\n",
    "    change = True\n",
    "    print(\"Original Grammar : \\n\")\n",
    "    printGrammar(Grammar)\n",
    "    old = Grammar.copy()\n",
    "    while change == True:\n",
    "        new = IndirectLeftRecursion(old)\n",
    "        change = not(old == new)\n",
    "        old = new.copy()\n",
    "    print(\"\\nAfter removing Left Recursion : \\n\")\n",
    "    printGrammar(new)  "
   ]
  },
  {
   "cell_type": "code",
   "execution_count": 11,
   "metadata": {},
   "outputs": [
    {
     "name": "stdout",
     "output_type": "stream",
     "text": [
      "Original Grammar : \n",
      "\n",
      "C   -> At                       \n",
      "B   -> Cd                       \n",
      "A   -> Br                       \n",
      "\n",
      "After removing Left Recursion : \n",
      "\n",
      "C   -> At                       \n",
      "A'  -> tdrA' | ε                \n",
      "B   -> Atd                      \n"
     ]
    }
   ],
   "source": [
    "Grammar = [('A','Br'),('B','Cd'),('C','At')]\n",
    "#Grammar = [('S','Sa'),('S','Sb'),('S','c'),('S','d')]\n",
    "RemoveLeftRecursion(Grammar)"
   ]
  },
  {
   "cell_type": "code",
   "execution_count": 12,
   "metadata": {},
   "outputs": [],
   "source": [
    "G = [('S','ACB'),('S','Cbb'),('S','Ba'),('A','da'),('A','BC'),('B',''),('B','g'),('C',''),('C','h')]\n"
   ]
  },
  {
   "cell_type": "code",
   "execution_count": 13,
   "metadata": {},
   "outputs": [
    {
     "name": "stdout",
     "output_type": "stream",
     "text": [
      "Original Grammar : \n",
      "\n",
      "C   -> h | ε                    \n",
      "S   -> ACB | Cbb | Ba           \n",
      "A   -> da | BC                  \n",
      "B   -> g | ε                    \n",
      "\n",
      "Left Factored Grammar : \n",
      "\n",
      "C   -> h | ε                    \n",
      "S   -> ACB | Cbb | Ba           \n",
      "A   -> da | BC                  \n",
      "B   -> g | ε                    \n"
     ]
    }
   ],
   "source": [
    "RemoveLeftFactoring(G)"
   ]
  },
  {
   "cell_type": "code",
   "execution_count": 14,
   "metadata": {},
   "outputs": [
    {
     "name": "stdout",
     "output_type": "stream",
     "text": [
      "Original Grammar : \n",
      "\n",
      "C   -> h | ε                    \n",
      "S   -> ACB | Cbb | Ba           \n",
      "A   -> da | BC                  \n",
      "B   -> g | ε                    \n",
      "\n",
      "After removing Left Recursion : \n",
      "\n",
      "C   -> h | ε                    \n",
      "S   -> ACB | Ba | bb | hbb      \n",
      "A   -> da | BC                  \n",
      "B   -> g | ε                    \n"
     ]
    }
   ],
   "source": [
    "RemoveLeftRecursion(G)"
   ]
  },
  {
   "cell_type": "code",
   "execution_count": null,
   "metadata": {},
   "outputs": [],
   "source": []
  }
 ],
 "metadata": {
  "kernelspec": {
   "display_name": "Python 3",
   "language": "python",
   "name": "python3"
  },
  "language_info": {
   "codemirror_mode": {
    "name": "ipython",
    "version": 3
   },
   "file_extension": ".py",
   "mimetype": "text/x-python",
   "name": "python",
   "nbconvert_exporter": "python",
   "pygments_lexer": "ipython3",
   "version": "3.7.3"
  }
 },
 "nbformat": 4,
 "nbformat_minor": 2
}
