{
 "cells": [
  {
   "cell_type": "markdown",
   "metadata": {},
   "source": [
    "# First and Follow of Grammar"
   ]
  },
  {
   "cell_type": "code",
   "execution_count": 1,
   "metadata": {},
   "outputs": [],
   "source": [
    "epsilon = '\\u03B5'\n",
    "arrow = ' \\u2192 '\n",
    "import pandas as pd"
   ]
  },
  {
   "cell_type": "code",
   "execution_count": 2,
   "metadata": {},
   "outputs": [],
   "source": [
    "def printGrammar(Grammar):\n",
    "    lhs = list(set([t[0] for t in Grammar]))\n",
    "    for l in lhs:\n",
    "        rhs = [t[1] for t in Grammar if t[0] == l]\n",
    "        if '' in rhs :\n",
    "            rhs.remove('')\n",
    "            rhs.append(epsilon)\n",
    "        b = ' | '.join(rhs)\n",
    "        print('{0:<3} {2} {1:<25}'.format(l,b,arrow))"
   ]
  },
  {
   "cell_type": "code",
   "execution_count": 3,
   "metadata": {},
   "outputs": [],
   "source": [
    "def First(X,G):\n",
    "    first = []\n",
    "    nt = list(set([t[0] for t in G]))\n",
    "    if X == '':\n",
    "        first.append(epsilon)\n",
    "        return first\n",
    "    \n",
    "    for x in X: \n",
    "        prod = [t[1] for t in G if t[0]==x]\n",
    "        \n",
    "        if x not in nt:\n",
    "            first.append(x)\n",
    "            if epsilon in first:\n",
    "                first.remove(epsilon)\n",
    "            return first\n",
    "\n",
    "        if '' in prod:\n",
    "            first.append(epsilon)\n",
    "            \n",
    "        for p in prod:\n",
    "            for i in p:\n",
    "                if i not in nt:\n",
    "                    first.append(i)\n",
    "                    break\n",
    "                else:\n",
    "                    pr = [t[1] for t in G if t[0]==i]\n",
    "                    first += First(i,G)\n",
    "                    if '' in pr:\n",
    "                        if i != p[-1]:\n",
    "                            first.remove(epsilon)\n",
    "                        continue\n",
    "                    break\n",
    "        if epsilon not in first:\n",
    "            break\n",
    "            \n",
    "    return list(set(first))\n"
   ]
  },
  {
   "cell_type": "code",
   "execution_count": 4,
   "metadata": {},
   "outputs": [],
   "source": [
    "def Follow(x,G,start):\n",
    "    nt = list(set([t[0] for t in G]))\n",
    "    follow = []\n",
    "    if x not in nt:\n",
    "        return -1\n",
    "    if x == start:\n",
    "        follow.append('$')\n",
    "    for a,b in G:\n",
    "        if x in b:\n",
    "            spl = b.split(x,maxsplit=1)\n",
    "            follow += First(spl[1],G)\n",
    "            if epsilon in follow:\n",
    "                follow.remove(epsilon)\n",
    "            if epsilon in First(spl[1],G):\n",
    "                follow += Follow(a,G,start)\n",
    "    return list(set(follow))\n"
   ]
  },
  {
   "cell_type": "code",
   "execution_count": 5,
   "metadata": {},
   "outputs": [
    {
     "name": "stdout",
     "output_type": "stream",
     "text": [
      "\n",
      "Grammar : \n",
      "\n",
      "A    →  da | BC                  \n",
      "B    →  g | ε                    \n",
      "C    →  h | ε                    \n",
      "S    →  ACB | Cbb | Ba           \n",
      "\n",
      "First(A) = ['h', 'g', 'd', 'ε']\n",
      "\n",
      "First(B) = ['ε', 'g']\n",
      "\n",
      "First(C) = ['ε', 'h']\n",
      "\n",
      "First(S) = ['ε', 'a', 'g', 'h', 'd', 'b']\n",
      "\n",
      "\n",
      "\n",
      "Follow(A) = ['$', 'g', 'h']\n",
      "\n",
      "Follow(B) = ['$', 'g', 'a', 'h']\n",
      "\n",
      "Follow(C) = ['$', 'g', 'h', 'b']\n",
      "\n",
      "Follow(S) = ['$']\n"
     ]
    }
   ],
   "source": [
    "G = [('S','ACB'),('S','Cbb'),('S','Ba'),('A','da'),('A','BC'),('B',''),('B','g'),('C',''),('C','h')]\n",
    "nt = list(set([t[0] for t in G]))\n",
    "start = 'S'\n",
    "print(\"\\nGrammar : \\n\")\n",
    "printGrammar(G)\n",
    "for n in nt:\n",
    "    print(\"\\nFirst({0}) = {1}\".format(n,First(n,G)))\n",
    "print(\"\\n\")\n",
    "for n in nt:\n",
    "    print(\"\\nFollow({0}) = {1}\".format(n,Follow(n,G,start)))"
   ]
  },
  {
   "cell_type": "markdown",
   "metadata": {},
   "source": [
    "# Creating Parsing Table"
   ]
  },
  {
   "cell_type": "code",
   "execution_count": 39,
   "metadata": {},
   "outputs": [],
   "source": [
    "def ParsingTable(G):\n",
    "    '''\n",
    "    Input : Grammar\n",
    "    Output: None with a message if G is not LL(1) else the parsing table\n",
    "    '''\n",
    "    ll = True\n",
    "    nt = list(set([t[0] for t in G]))\n",
    "    ter = list(set([t[1] for t in G if t[1] not in nt ]))\n",
    "    t = []\n",
    "    for i in ter:\n",
    "        if i != '':\n",
    "            for j in i:\n",
    "                if j not in nt:\n",
    "                    t.append(j)\n",
    "    t.append('$')\n",
    "    t = list(set(t))\n",
    "    pt = pd.DataFrame(index=nt, columns=t)\n",
    "    pt = pt.fillna('')\n",
    "    for i in pt.columns:\n",
    "        pt[i] = pt[i].apply(list)\n",
    "    for a,b in G:\n",
    "        fir = First(b,G)\n",
    "        for i in fir:\n",
    "            if i != epsilon:\n",
    "                pt.loc[a,i].append(a + arrow + (b if b != '' else epsilon))\n",
    "        if epsilon in fir:\n",
    "            fol = Follow(a,G,start)\n",
    "            for i in fol:\n",
    "                pt.loc[a,i].append(a + arrow + (b if b != '' else epsilon))\n",
    "    for i in pt.columns:\n",
    "        pt[i] = pt[i].apply(lambda x : list(set(x)))\n",
    "        pt[i] = pt[i].apply(lambda x : '-' if len(x)==0 else ' | '.join(x))\n",
    "    \n",
    "    conflict = False\n",
    "    for i in pt.columns:\n",
    "        conflict = conflict or (pt[i].apply(lambda x : True if '|' in x else False).any())\n",
    "    if not conflict:\n",
    "        return pt\n",
    "    else:\n",
    "        print(\"\\n\\nGrammar is not LL(1)\")\n",
    "        return"
   ]
  },
  {
   "cell_type": "code",
   "execution_count": 36,
   "metadata": {},
   "outputs": [
    {
     "name": "stdout",
     "output_type": "stream",
     "text": [
      "\n",
      "Grammar : \n",
      "\n",
      "A    →  da | BC                  \n",
      "B    →  g | ε                    \n",
      "C    →  h | ε                    \n",
      "S    →  ACB | Cbb | Ba           \n",
      "\n",
      "\n",
      "Grammar is not LL(1)\n"
     ]
    }
   ],
   "source": [
    "G = [('S','ACB'),('S','Cbb'),('S','Ba'),('A','da'),('A','BC'),('B',''),('B','g'),('C',''),('C','h')]\n",
    "start = 'S'\n",
    "print(\"\\nGrammar : \\n\")\n",
    "printGrammar(G)\n",
    "ParsingTable(G)"
   ]
  },
  {
   "cell_type": "code",
   "execution_count": 37,
   "metadata": {},
   "outputs": [
    {
     "name": "stdout",
     "output_type": "stream",
     "text": [
      "\n",
      "Grammar : \n",
      "\n",
      "A    →  a                        \n",
      "S    →  A | a                    \n",
      "\n",
      "\n",
      "Grammar is not LL(1)\n"
     ]
    }
   ],
   "source": [
    "G = [('A','a'),('S','A'),('S','a')]\n",
    "start = 'S'\n",
    "print(\"\\nGrammar : \\n\")\n",
    "printGrammar(G)\n",
    "ParsingTable(G)"
   ]
  },
  {
   "cell_type": "code",
   "execution_count": 38,
   "metadata": {},
   "outputs": [
    {
     "name": "stdout",
     "output_type": "stream",
     "text": [
      "\n",
      "Grammar : \n",
      "\n",
      "F    →  a                        \n",
      "S    →  F | (S+F)                \n"
     ]
    },
    {
     "data": {
      "text/html": [
       "<div>\n",
       "<style scoped>\n",
       "    .dataframe tbody tr th:only-of-type {\n",
       "        vertical-align: middle;\n",
       "    }\n",
       "\n",
       "    .dataframe tbody tr th {\n",
       "        vertical-align: top;\n",
       "    }\n",
       "\n",
       "    .dataframe thead th {\n",
       "        text-align: right;\n",
       "    }\n",
       "</style>\n",
       "<table border=\"1\" class=\"dataframe\">\n",
       "  <thead>\n",
       "    <tr style=\"text-align: right;\">\n",
       "      <th></th>\n",
       "      <th>(</th>\n",
       "      <th>)</th>\n",
       "      <th>a</th>\n",
       "      <th>$</th>\n",
       "      <th>+</th>\n",
       "    </tr>\n",
       "  </thead>\n",
       "  <tbody>\n",
       "    <tr>\n",
       "      <th>F</th>\n",
       "      <td>-</td>\n",
       "      <td>-</td>\n",
       "      <td>F → a</td>\n",
       "      <td>-</td>\n",
       "      <td>-</td>\n",
       "    </tr>\n",
       "    <tr>\n",
       "      <th>S</th>\n",
       "      <td>S → (S+F)</td>\n",
       "      <td>-</td>\n",
       "      <td>S → F</td>\n",
       "      <td>-</td>\n",
       "      <td>-</td>\n",
       "    </tr>\n",
       "  </tbody>\n",
       "</table>\n",
       "</div>"
      ],
      "text/plain": [
       "           (  )      a  $  +\n",
       "F          -  -  F → a  -  -\n",
       "S  S → (S+F)  -  S → F  -  -"
      ]
     },
     "execution_count": 38,
     "metadata": {},
     "output_type": "execute_result"
    }
   ],
   "source": [
    "G = [('S','F'),('S','(S+F)'),('F','a')]\n",
    "start = 'S'\n",
    "print(\"\\nGrammar : \\n\")\n",
    "printGrammar(G)\n",
    "ParsingTable(G)"
   ]
  },
  {
   "cell_type": "code",
   "execution_count": null,
   "metadata": {},
   "outputs": [],
   "source": []
  }
 ],
 "metadata": {
  "kernelspec": {
   "display_name": "Python 3",
   "language": "python",
   "name": "python3"
  },
  "language_info": {
   "codemirror_mode": {
    "name": "ipython",
    "version": 3
   },
   "file_extension": ".py",
   "mimetype": "text/x-python",
   "name": "python",
   "nbconvert_exporter": "python",
   "pygments_lexer": "ipython3",
   "version": "3.7.3"
  }
 },
 "nbformat": 4,
 "nbformat_minor": 2
}
