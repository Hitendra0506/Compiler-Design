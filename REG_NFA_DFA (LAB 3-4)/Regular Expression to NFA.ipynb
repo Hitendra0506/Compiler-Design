{
 "cells": [
  {
   "cell_type": "markdown",
   "metadata": {},
   "source": [
    "# Conversion of Regular Expression to NFA"
   ]
  },
  {
   "cell_type": "code",
   "execution_count": 27,
   "metadata": {},
   "outputs": [],
   "source": [
    "from graphviz import Digraph\n",
    "import uuid\n",
    "epsilon = '\\u03B5'"
   ]
  },
  {
   "cell_type": "markdown",
   "metadata": {},
   "source": [
    "# Class to represent a NFA\n",
    "\n",
    "The class NFA and its properties are defined. Operator overloading is used to Process sub-NFA's"
   ]
  },
  {
   "cell_type": "code",
   "execution_count": 28,
   "metadata": {},
   "outputs": [],
   "source": [
    "class NFA:\n",
    "    def __init__(self,trans='#'):\n",
    "        self.start = uuid.uuid1().hex\n",
    "        self.final = uuid.uuid1().hex\n",
    "        self.states=set([self.start,self.final])\n",
    "        self.transition=set()\n",
    "        if trans != '#':\n",
    "            self.transition.add((self.start,self.final,trans))\n",
    "        \n",
    "    def __or__(self, other):\n",
    "        temp = NFA()\n",
    "        temp.states.update(self.states,other.states)\n",
    "        temp.transition.update(self.transition,other.transition)\n",
    "        new = set([(temp.start,self.start,epsilon),(temp.start,other.start,epsilon),(self.final,temp.final,epsilon),(other.final,temp.final,epsilon)])\n",
    "        temp.transition.update(new)\n",
    "        return temp\n",
    "    def __invert__(self):\n",
    "        temp = NFA()\n",
    "        temp.states.update(self.states)\n",
    "        temp.transition.update(self.transition)\n",
    "        new = set([(temp.start,temp.final,epsilon),(temp.start,self.start,epsilon),(self.final,temp.final,epsilon),(self.final,self.start,epsilon)])\n",
    "        temp.transition.update(new)\n",
    "        return temp\n",
    "    def __and__(self, other):\n",
    "        temp = NFA()\n",
    "        temp.states.update(self.states,other.states)\n",
    "        temp.transition.update(self.transition,other.transition)\n",
    "        new = set([(temp.start,self.start,epsilon),(self.final,other.start,epsilon),(other.final,temp.final,epsilon)])\n",
    "        temp.transition.update(new)\n",
    "        return temp"
   ]
  },
  {
   "cell_type": "markdown",
   "metadata": {},
   "source": [
    "# Conversion of Regular Expression to Postfix expression"
   ]
  },
  {
   "cell_type": "code",
   "execution_count": 29,
   "metadata": {},
   "outputs": [],
   "source": [
    "def RegexToPostfix(regex):\n",
    "    regex = '(' + regex + ')'\n",
    "    postfix = ''\n",
    "    optor = []\n",
    "    opand = []\n",
    "    i = 0\n",
    "    while i < len(regex):\n",
    "        c = regex[i]\n",
    "        if c == '(':\n",
    "            optor.append(c)\n",
    "        elif c == '+': \n",
    "            optor.append('|')\n",
    "        elif c == '.': \n",
    "            optor.append('&')\n",
    "        elif c == ')':\n",
    "            k = optor.pop()\n",
    "            while k != '(':\n",
    "                opand.append(k)\n",
    "                k = optor.pop()\n",
    "            if i+1 < len(regex) and regex[i+1] == '*':\n",
    "                opand.append('~')\n",
    "                i += 1\n",
    "        else: \n",
    "            opand.append(c)\n",
    "            if i+1 < len(regex) and regex[i+1] == '*':\n",
    "                opand.append('~')\n",
    "                i+=1\n",
    "\n",
    "        i+=1\n",
    "    postfix = postfix.join(opand)\n",
    "    return postfix\n",
    "        "
   ]
  },
  {
   "cell_type": "markdown",
   "metadata": {},
   "source": [
    "# Using stack to obtain epsilon NFA"
   ]
  },
  {
   "cell_type": "code",
   "execution_count": 30,
   "metadata": {},
   "outputs": [],
   "source": [
    "def ConvertToNFA(postfix):\n",
    "    nfastack = []\n",
    "    for c in postfix:\n",
    "        if c == '~':\n",
    "            s = nfastack.pop()\n",
    "            s = ~s\n",
    "            nfastack.append(s)\n",
    "        elif c == '&':\n",
    "            s2 = nfastack.pop()\n",
    "            s1 = nfastack.pop()\n",
    "            s = s1&s2\n",
    "            nfastack.append(s)\n",
    "        elif c == '|':\n",
    "            s2 = nfastack.pop()\n",
    "            s1 = nfastack.pop()\n",
    "            s = s1|s2\n",
    "            nfastack.append(s)\n",
    "        else:\n",
    "            s = NFA(c)\n",
    "            nfastack.append(s)\n",
    "    nfa = nfastack.pop()\n",
    "    return nfa\n",
    "    "
   ]
  },
  {
   "cell_type": "markdown",
   "metadata": {},
   "source": [
    "\n",
    "# Using Graphviz to visualize the NFA"
   ]
  },
  {
   "cell_type": "code",
   "execution_count": 31,
   "metadata": {},
   "outputs": [],
   "source": [
    "def VisualizeNFA(nfa):\n",
    "    diag = Digraph()\n",
    "    diag.attr(rankdir='LR')\n",
    "    states = {j : str(i) for i,j in enumerate(nfa.states)}\n",
    "\n",
    "    for s,i in states.items():\n",
    "        if s == nfa.start :\n",
    "            diag.node(name='start',label='',shape='point')\n",
    "            diag.edge(tail_name='start',head_name=s,label='Start',shape='normal')\n",
    "            diag.node(name=s,label=i,shape='circle',fillcolor='green',style='filled')\n",
    "        elif s == nfa.final :\n",
    "            diag.node(name=s,label=i,shape='doublecircle',fillcolor='red',style='filled')\n",
    "        else:\n",
    "            diag.node(name=s,label=i,shape='circle',fillcolor='yellow',style='filled')\n",
    "    \n",
    "    for t in nfa.transition:\n",
    "        diag.edge(tail_name=t[0],head_name=t[1],label=t[2])\n",
    "\n",
    "    diag.render('nfa.gv',view=True)   \n",
    "    "
   ]
  },
  {
   "cell_type": "markdown",
   "metadata": {},
   "source": [
    "# main()"
   ]
  },
  {
   "cell_type": "code",
   "execution_count": 99,
   "metadata": {},
   "outputs": [],
   "source": [
    "regex = '(a+b)*.b'\n",
    "postfix = RegexToPostfix(regex)\n",
    "nfa = ConvertToNFA(postfix)\n",
    "VisualizeNFA(nfa)"
   ]
  },
  {
   "cell_type": "markdown",
   "metadata": {},
   "source": [
    "# Conversion of Epsilon NFA to DFA"
   ]
  },
  {
   "cell_type": "code",
   "execution_count": null,
   "metadata": {},
   "outputs": [],
   "source": []
  },
  {
   "cell_type": "code",
   "execution_count": 33,
   "metadata": {},
   "outputs": [],
   "source": [
    "def EClosure(change,closure,transitions):\n",
    "    if change == False:\n",
    "        return set(closure)\n",
    "    else:\n",
    "        prev = closure.copy()\n",
    "        new = closure.copy()\n",
    "        for k in prev:\n",
    "            for (a,b,c) in transitions:\n",
    "                if c == epsilon and a == k:\n",
    "                    new.append(b)\n",
    "        change = not(set(new) == set(prev))\n",
    "        closure = list(set(new))\n",
    "        return EClosure(change,closure,transitions)"
   ]
  },
  {
   "cell_type": "code",
   "execution_count": 34,
   "metadata": {},
   "outputs": [],
   "source": [
    "class DFA:\n",
    "    def __init__(self,start,final,transitions,states,alphabets):\n",
    "        self.start = EClosure(True,[start],transitions)\n",
    "        self.states= [EClosure(True,[s],transitions) for s in states]\n",
    "        self.transition=[]\n",
    "        for a in self.states:\n",
    "            for c in alphabets:\n",
    "                b = []\n",
    "                for (i,j,k) in transitions:\n",
    "                    if i in a and k == c:\n",
    "                        b.append(j)\n",
    "                if len(b) != 0: \n",
    "                    b = EClosure(True,b,transitions)\n",
    "                    self.transition.append((a,b,c))\n",
    "                    if b not in self.states:\n",
    "                        self.states.append(b)\n",
    "               \n",
    "        self.final = []\n",
    "        for x in self.states:\n",
    "            if final in x:\n",
    "                self.final.append(x)\n",
    "        "
   ]
  },
  {
   "cell_type": "code",
   "execution_count": 87,
   "metadata": {},
   "outputs": [],
   "source": [
    "class minDFA:\n",
    "    def __init__(self,dfa):\n",
    "        self.states = { str(j) : i for (i,j) in enumerate(dfa.states)}\n",
    "        transition = [(self.states[str(s)],self.states[str(f)],c) for (s,f,c) in dfa.transition]\n",
    "        dfa.final = [self.states[str(s)]  for s in dfa.final]\n",
    "        self.start = self.states[str(dfa.start)]\n",
    "        self.states = list(self.states.values()) \n",
    "        reachable = [self.start]\n",
    "        change = True\n",
    "        while change == True:\n",
    "            prev = reachable\n",
    "            new = reachable\n",
    "            for (a,b,c) in transition:\n",
    "                if a in reachable:\n",
    "                    reachable.append(b)\n",
    "            change = not(set(new) == set(prev))\n",
    "            reachable = list(set(new))\n",
    "        self.reachable = reachable\n",
    "        self.transition = list()\n",
    "        for (a,b,c) in transition:\n",
    "            if a in reachable and b in reachable:\n",
    "                    self.transition.append((a,b,c))\n",
    "        self.states = self.reachable\n",
    "        self.final = list()\n",
    "        for i in dfa.final:\n",
    "            if i in self.states:\n",
    "                self.final.append(i)\n",
    "                \n",
    "            "
   ]
  },
  {
   "cell_type": "code",
   "execution_count": 55,
   "metadata": {},
   "outputs": [],
   "source": [
    "def VisualizeDFA(dfa):\n",
    "    diag = Digraph()\n",
    "    diag.attr(rankdir='LR')\n",
    "    states = { str(j) : str(i) for (i,j) in enumerate(dfa.states)}\n",
    "    dfa.final = [str(x) for x in dfa.final]\n",
    "    for s,i in states.items():\n",
    "        if s == str(dfa.start) :\n",
    "            diag.node(name=s,label=i,shape='circle',fillcolor='green',style='filled')\n",
    "        elif s in dfa.final :\n",
    "            diag.node(name=s,label=i,shape='doublecircle',fillcolor='red',style='filled')\n",
    "        else:\n",
    "            diag.node(name=s,label=i,shape='circle',fillcolor='yellow',style='filled')\n",
    "    \n",
    "    for t in dfa.transition:\n",
    "        diag.edge(tail_name=str(t[0]),head_name=str(t[1]),label=t[2])\n",
    "\n",
    "    diag.render('dfa.gv',view=True)   "
   ]
  },
  {
   "cell_type": "code",
   "execution_count": 95,
   "metadata": {},
   "outputs": [],
   "source": [
    "def VisualizeMinDFA(dfa):\n",
    "    diag = Digraph()\n",
    "    diag.attr(rankdir='LR')\n",
    "    states = { j : str(i) for (i,j) in enumerate(dfa.states)}\n",
    "    for s,i in states.items():\n",
    "        if s == dfa.start :\n",
    "            diag.node(name=str(s),label=str(i),shape='circle',fillcolor='green',style='filled')\n",
    "        elif s in dfa.final :\n",
    "            diag.node(name=str(s),label=str(i),shape='doublecircle',fillcolor='red',style='filled')\n",
    "        else:\n",
    "            diag.node(name=str(s),label=str(i),shape='circle',fillcolor='yellow',style='filled')\n",
    "    \n",
    "    for t in dfa.transition:\n",
    "        diag.edge(tail_name=str(t[0]),head_name=str(t[1]),label=t[2])\n",
    "\n",
    "    diag.render('mindfa.gv',view=True)   "
   ]
  },
  {
   "cell_type": "code",
   "execution_count": 71,
   "metadata": {},
   "outputs": [],
   "source": [
    "# Processing of NFA\n",
    "\n",
    "states = {j : i for i,j in enumerate(nfa.states)}\n",
    "transitions = [(states[s],states[f],c)for (s,f,c) in nfa.transition]\n",
    "start = states[nfa.start]\n",
    "final = states[nfa.final]\n",
    "alphabets = list(set([c for (a,b,c) in transitions]))\n",
    "alphabets.remove(epsilon)\n",
    "states = list(set([v for v in states.values()]))"
   ]
  },
  {
   "cell_type": "code",
   "execution_count": 88,
   "metadata": {},
   "outputs": [],
   "source": [
    "dfa = DFA(start,final,transitions,states,alphabets)\n",
    "#VisualizeDFA(dfa)"
   ]
  },
  {
   "cell_type": "code",
   "execution_count": 89,
   "metadata": {},
   "outputs": [],
   "source": [
    "mindfa = minDFA(dfa)\n",
    "#VisualizeMinDFA(mindfa)"
   ]
  },
  {
   "cell_type": "code",
   "execution_count": 90,
   "metadata": {},
   "outputs": [
    {
     "data": {
      "text/plain": [
       "[12, 4, 5]"
      ]
     },
     "execution_count": 90,
     "metadata": {},
     "output_type": "execute_result"
    }
   ],
   "source": [
    "mindfa.reachable"
   ]
  },
  {
   "cell_type": "code",
   "execution_count": 91,
   "metadata": {},
   "outputs": [
    {
     "data": {
      "text/plain": [
       "[12]"
      ]
     },
     "execution_count": 91,
     "metadata": {},
     "output_type": "execute_result"
    }
   ],
   "source": [
    "mindfa.final"
   ]
  },
  {
   "cell_type": "code",
   "execution_count": 92,
   "metadata": {},
   "outputs": [
    {
     "data": {
      "text/plain": [
       "4"
      ]
     },
     "execution_count": 92,
     "metadata": {},
     "output_type": "execute_result"
    }
   ],
   "source": [
    "mindfa.start"
   ]
  },
  {
   "cell_type": "code",
   "execution_count": 93,
   "metadata": {},
   "outputs": [
    {
     "data": {
      "text/plain": [
       "[(4, 5, 'a'),\n",
       " (4, 12, 'b'),\n",
       " (5, 5, 'a'),\n",
       " (5, 12, 'b'),\n",
       " (12, 5, 'a'),\n",
       " (12, 12, 'b')]"
      ]
     },
     "execution_count": 93,
     "metadata": {},
     "output_type": "execute_result"
    }
   ],
   "source": [
    "mindfa.transition"
   ]
  },
  {
   "cell_type": "code",
   "execution_count": 96,
   "metadata": {},
   "outputs": [],
   "source": [
    "VisualizeMinDFA(mindfa)"
   ]
  },
  {
   "cell_type": "code",
   "execution_count": null,
   "metadata": {},
   "outputs": [],
   "source": []
  }
 ],
 "metadata": {
  "kernelspec": {
   "display_name": "Python 3",
   "language": "python",
   "name": "python3"
  },
  "language_info": {
   "codemirror_mode": {
    "name": "ipython",
    "version": 3
   },
   "file_extension": ".py",
   "mimetype": "text/x-python",
   "name": "python",
   "nbconvert_exporter": "python",
   "pygments_lexer": "ipython3",
   "version": "3.7.3"
  }
 },
 "nbformat": 4,
 "nbformat_minor": 2
}
