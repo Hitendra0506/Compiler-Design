{
 "cells": [
  {
   "cell_type": "code",
   "execution_count": 162,
   "metadata": {},
   "outputs": [],
   "source": [
    "from graphviz import Digraph\n",
    "from wand.image import Image as WImage"
   ]
  },
  {
   "cell_type": "code",
   "execution_count": 163,
   "metadata": {},
   "outputs": [],
   "source": [
    "def VisualizeDAG(dag):\n",
    "    vertices = [a for a,_,_ in dag]\n",
    "    edges = list()\n",
    "    for a,b,c in dag:\n",
    "        fb = False\n",
    "        fc = False\n",
    "        for i in vertices:\n",
    "            if b.issubset(i):\n",
    "                edges.append((a,i,'l'))\n",
    "                fb = True\n",
    "        for i in vertices:\n",
    "            if c.issubset(i):\n",
    "                edges.append((a,i,'r'))\n",
    "                fc = True\n",
    "        if not fb:\n",
    "            edges.append((a,b,'l'))\n",
    "            vertices.append(b)\n",
    "        if not fc:\n",
    "            edges.append((a,c,'r'))\n",
    "            vertices.append(c)\n",
    "\n",
    "\n",
    "    diag = Digraph()\n",
    "    diag.attr(rankdir='TD')\n",
    "\n",
    "    for i in vertices:\n",
    "        diag.node(name=str(i),label=str(i),shape='none')\n",
    "\n",
    "    for a,b,c in edges:\n",
    "        diag.edge(tail_name=str(a),head_name=str(b))\n",
    "\n",
    "    diag.render('dag.gv',view=True)   \n"
   ]
  },
  {
   "cell_type": "code",
   "execution_count": 164,
   "metadata": {},
   "outputs": [],
   "source": [
    "def assign(dag,node):\n",
    "    a,b = (set(node[0]),set(node[2]))\n",
    "    flag = False\n",
    "    if len(dag) != 0:\n",
    "        for i in dag:\n",
    "            for j in i:\n",
    "                if a.issubset(j):\n",
    "                    j.difference_update(a)\n",
    "                if b.issubset(j):\n",
    "                    j.update(a)\n",
    "                    flag = True\n",
    "    if not flag:\n",
    "        a.update(b)\n",
    "        tup = (set(),a,set(),set())\n",
    "        dag.append(tup)\n",
    "    return dag"
   ]
  },
  {
   "cell_type": "code",
   "execution_count": 165,
   "metadata": {},
   "outputs": [],
   "source": [
    "def binary(dag,node):\n",
    "    tup = (set(node[3]),set(node[0]),set(node[2]),set(node[4]))\n",
    "    if len(dag) != 0:\n",
    "        for i in dag:\n",
    "            if tup[0]==i[0] and tup[2].issubset(i[2]) and tup[3].issubset(i[3]):\n",
    "                i[1].update(tup[1])\n",
    "                return dag\n",
    "    dag.append(tup)\n",
    "    return dag"
   ]
  },
  {
   "cell_type": "code",
   "execution_count": 166,
   "metadata": {},
   "outputs": [],
   "source": [
    "def unary(dag,node):\n",
    "    tup = (set(node[2]),set(node[0]),set(node[3]),set())\n",
    "    if len(dag) != 0:\n",
    "        for i in dag:\n",
    "            if tup[0]==i[0] and tup[2].issubset(i[2]):\n",
    "                i[1].update(tup[1])\n",
    "                return dag\n",
    "    dag.append(tup)\n",
    "    return dag"
   ]
  },
  {
   "cell_type": "code",
   "execution_count": 167,
   "metadata": {},
   "outputs": [],
   "source": [
    "code = [\"a=b*c\",\"d=b\",\"e=d*c\",\"b=e\",\"f=b+c\",\"g=f+d\"]\n",
    "dag = []\n",
    "for expr in code:\n",
    "    node = list(expr)\n",
    "    n = len(node)\n",
    "    if n == 5:\n",
    "        dag = binary(dag,node)\n",
    "    elif n == 4:\n",
    "        dag = unary(dag,node)\n",
    "    elif n == 3:\n",
    "        dag = assign(dag,node)\n",
    "    else:\n",
    "        print('ERROR')\n",
    "        break\n",
    "        \n",
    "dag = [(a.union(b),c,d) for a,b,c,d in dag]\n",
    "VisualizeDAG(dag)"
   ]
  },
  {
   "cell_type": "code",
   "execution_count": 173,
   "metadata": {},
   "outputs": [
    {
     "name": "stdout",
     "output_type": "stream",
     "text": [
      "a=b*c\n",
      "d=b\n",
      "e=d*c\n",
      "b=e\n",
      "f=b+c\n",
      "g=f+d\n",
      "\n",
      "\n",
      "DAG is in the file 'dag.pdf'\n"
     ]
    }
   ],
   "source": [
    "for i in code:\n",
    "    print(i)\n",
    "print(\"\\n\\nDAG is in the file 'dag.pdf'\")"
   ]
  },
  {
   "attachments": {
    "image.png": {
     "image/png": "[encoded data removed]"
    }
   },
   "cell_type": "markdown",
   "metadata": {},
   "source": [
    "![image.png](attachment:image.png)"
   ]
  },
  {
   "cell_type": "code",
   "execution_count": null,
   "metadata": {},
   "outputs": [],
   "source": []
  },
  {
   "cell_type": "code",
   "execution_count": null,
   "metadata": {},
   "outputs": [],
   "source": []
  }
 ],
 "metadata": {
  "kernelspec": {
   "display_name": "Python 3",
   "language": "python",
   "name": "python3"
  },
  "language_info": {
   "codemirror_mode": {
    "name": "ipython",
    "version": 3
   },
   "file_extension": ".py",
   "mimetype": "text/x-python",
   "name": "python",
   "nbconvert_exporter": "python",
   "pygments_lexer": "ipython3",
   "version": "3.7.3"
  }
 },
 "nbformat": 4,
 "nbformat_minor": 4
}
